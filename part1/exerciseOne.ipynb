{
 "cells": [
  {
   "cell_type": "markdown",
   "metadata": {},
   "source": [
    "# Unzip the folder"
   ]
  },
  {
   "cell_type": "code",
   "execution_count": 115,
   "metadata": {},
   "outputs": [
    {
     "name": "stdout",
     "output_type": "stream",
     "text": [
      "Extracting all the files now...\n",
      "Done!\n"
     ]
    }
   ],
   "source": [
    "from zipfile import ZipFile\n",
    "\n",
    "with ZipFile('TestFiles.zip', 'r') as zip: \n",
    "    # extracting all the files \n",
    "    print('Extracting all the files now...') \n",
    "    zip.extractall() \n",
    "    print('Done!') "
   ]
  },
  {
   "cell_type": "markdown",
   "metadata": {},
   "source": [
    "# Iterate through files and create a combined dataframe"
   ]
  },
  {
   "cell_type": "code",
   "execution_count": 120,
   "metadata": {},
   "outputs": [
    {
     "name": "stdout",
     "output_type": "stream",
     "text": [
      "['NA Preview.csv', 'Asia Prod 2.csv', 'Asia Prod 3.csv', 'Asia Prod 1.csv', 'NA Prod.csv']\n"
     ]
    }
   ],
   "source": [
    "import pandas as pd\n",
    "import numpy as np\n",
    "import glob, os\n",
    "import re\n",
    "\n",
    "path = r'TestFiles'\n",
    "all_files = glob.glob(path + \"/*.csv\")\n",
    "\n",
    "# files = os.listdir(path)\n",
    "# print(files)"
   ]
  },
  {
   "cell_type": "code",
   "execution_count": 121,
   "metadata": {},
   "outputs": [
    {
     "name": "stdout",
     "output_type": "stream",
     "text": [
      "      Source IP Environment\n",
      "0   11.11.11.10  NA Preview\n",
      "1   11.11.11.11  NA Preview\n",
      "4       6.6.6.6   Asia Prod\n",
      "8       7.7.7.7   Asia Prod\n",
      "9       8.8.8.8   Asia Prod\n",
      "10      9.9.9.9   Asia Prod\n",
      "11  10.10.10.10   Asia Prod\n",
      "12      4.4.4.4   Asia Prod\n",
      "13      5.5.5.5   Asia Prod\n",
      "16      1.1.1.1     NA Prod\n",
      "18      2.2.2.2     NA Prod\n",
      "19      3.3.3.3     NA Prod\n"
     ]
    }
   ],
   "source": [
    "list = []\n",
    "for filename in all_files:\n",
    "    \n",
    "    #split the filename\n",
    "    FileName = re.split('/', filename)\n",
    "    split = re.split('\\.', FileName[1])\n",
    "    splitName = re.split(' ',split[0])\n",
    "\n",
    "    environment = splitName[0] + ' ' + splitName[1]\n",
    "    #print(environment)\n",
    "    \n",
    "    df = pd.read_csv(filename, index_col=None, header=0, usecols = ['Source IP'])\n",
    "    df['Environment'] = environment\n",
    "    list.append(df)\n",
    "    \n",
    "frame = pd.concat(list, axis=0, ignore_index = True)\n",
    "frame = frame.drop_duplicates(subset = ['Source IP'])\n",
    "    \n",
    "print(frame)"
   ]
  },
  {
   "cell_type": "markdown",
   "metadata": {},
   "source": [
    "# Sort the dataframe according to ip addresses"
   ]
  },
  {
   "cell_type": "code",
   "execution_count": 122,
   "metadata": {},
   "outputs": [
    {
     "name": "stdout",
     "output_type": "stream",
     "text": [
      "      Source IP Environment\n",
      "16      1.1.1.1     NA Prod\n",
      "18      2.2.2.2     NA Prod\n",
      "19      3.3.3.3     NA Prod\n",
      "12      4.4.4.4   Asia Prod\n",
      "13      5.5.5.5   Asia Prod\n",
      "4       6.6.6.6   Asia Prod\n",
      "8       7.7.7.7   Asia Prod\n",
      "9       8.8.8.8   Asia Prod\n",
      "10      9.9.9.9   Asia Prod\n",
      "11  10.10.10.10   Asia Prod\n",
      "0   11.11.11.10  NA Preview\n",
      "1   11.11.11.11  NA Preview\n"
     ]
    }
   ],
   "source": [
    "from natsort import index_natsorted\n",
    "frame = frame.sort_values(\n",
    "   by=\"Source IP\",\n",
    "   key=lambda x: np.argsort(index_natsorted(frame[\"Source IP\"]))\n",
    ")\n",
    "print(frame)"
   ]
  },
  {
   "cell_type": "markdown",
   "metadata": {},
   "source": [
    "# Convert dataframe into Combined.csv file"
   ]
  },
  {
   "cell_type": "code",
   "execution_count": 123,
   "metadata": {},
   "outputs": [
    {
     "name": "stdout",
     "output_type": "stream",
     "text": [
      "Combined.csv generated\n"
     ]
    }
   ],
   "source": [
    "frame.to_csv( \"combined.csv\", index=False, encoding='utf-8-sig')\n",
    "print(\"Combined.csv generated\")"
   ]
  }
 ],
 "metadata": {
  "kernelspec": {
   "display_name": "Python 3",
   "language": "python",
   "name": "python3"
  },
  "language_info": {
   "codemirror_mode": {
    "name": "ipython",
    "version": 3
   },
   "file_extension": ".py",
   "mimetype": "text/x-python",
   "name": "python",
   "nbconvert_exporter": "python",
   "pygments_lexer": "ipython3",
   "version": "3.9.1"
  }
 },
 "nbformat": 4,
 "nbformat_minor": 4
}
